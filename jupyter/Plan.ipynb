{
 "cells": [
  {
   "cell_type": "code",
   "execution_count": 1,
   "id": "507dc53c",
   "metadata": {},
   "outputs": [],
   "source": [
    "import sys\n",
    "import os\n",
    "import bungee\n",
    "import cenote.units\n",
    "import yaml\n",
    "import pint\n",
    "\n",
    "UREG = cenote.units.UREG\n",
    "# UREG.setup_matplotlib(True)"
   ]
  },
  {
   "cell_type": "code",
   "execution_count": 2,
   "id": "37805c2b",
   "metadata": {},
   "outputs": [
    {
     "ename": "AttributeError",
     "evalue": "module 'cenote' has no attribute 'parse'",
     "output_type": "error",
     "traceback": [
      "\u001b[0;31m---------------------------------------------------------------------------\u001b[0m",
      "\u001b[0;31mAttributeError\u001b[0m                            Traceback (most recent call last)",
      "Input \u001b[0;32mIn [2]\u001b[0m, in \u001b[0;36m<cell line: 2>\u001b[0;34m()\u001b[0m\n\u001b[1;32m      1\u001b[0m path \u001b[38;5;241m=\u001b[39m os\u001b[38;5;241m.\u001b[39mpath\u001b[38;5;241m.\u001b[39mjoin(os\u001b[38;5;241m.\u001b[39menviron[\u001b[38;5;124m\"\u001b[39m\u001b[38;5;124mSRC_DIR\u001b[39m\u001b[38;5;124m\"\u001b[39m], \u001b[38;5;124m\"\u001b[39m\u001b[38;5;124mexamples\u001b[39m\u001b[38;5;124m\"\u001b[39m, \u001b[38;5;124m\"\u001b[39m\u001b[38;5;124m115ft_30min.yaml\u001b[39m\u001b[38;5;124m\"\u001b[39m)\n\u001b[0;32m----> 2\u001b[0m plan \u001b[38;5;241m=\u001b[39m \u001b[43mcenote\u001b[49m\u001b[38;5;241;43m.\u001b[39;49m\u001b[43mparse\u001b[49m\u001b[38;5;241m.\u001b[39mget_plan(path)\n",
      "\u001b[0;31mAttributeError\u001b[0m: module 'cenote' has no attribute 'parse'"
     ]
    }
   ],
   "source": [
    "path = os.path.join(os.environ[\"SRC_DIR\"], \"examples\", \"115ft_30min.yaml\")\n",
    "plan = cenote.parse.get_plan(path)"
   ]
  },
  {
   "cell_type": "code",
   "execution_count": null,
   "id": "d0155d66",
   "metadata": {},
   "outputs": [],
   "source": [
    "\n",
    "# # create the plan object\n",
    "# plan = Plan(water, default_scr, tank_info, deco)\n",
    "\n",
    "# ## profile\n",
    "# # get a list of times in minutes\n",
    "# durations = [\n",
    "#     UREG.parse_expression(p[\"duration\"]).to(config.TIME_UNIT).magnitude for p in data[\"profile\"]\n",
    "# ]\n",
    "# times = [float(d) * config.TIME_UNIT for d in np.cumsum([0.0] + durations)]\n",
    "# # get a list of depths\n",
    "# depths = [0 * config.DEPTH_UNIT] + [UREG.parse_expression(p[\"depth\"]) for p in data[\"profile\"]]\n",
    "# # scr points\n",
    "# scrs = [\n",
    "#     Scr(UREG.parse_expression(p[\"scr\"])) if \"scr\" in p else None for p in data[\"profile\"]\n",
    "# ] + [None]\n",
    "# # tank points\n",
    "# tanks = [p[\"tank\"] if \"tank\" in p else None for p in data[\"profile\"]]\n",
    "# tanks += [tanks[-1]]\n",
    "# if tanks[0] is None:\n",
    "#     raise Exception(\"First entry in profile must contain tank\")\n",
    "\n",
    "# N = len(times)\n",
    "\n",
    "# # other checks\n",
    "# assert len(depths) == N\n",
    "# assert len(scrs) == N\n",
    "# assert len(tanks) == N\n",
    "\n",
    "# # populate the profile points\n",
    "# for i in range(N):\n",
    "#     plan.add_point(time=times[i], depth=depths[i], scr=scrs[i], tank_name=tanks[i])\n",
    "\n",
    "# plan.validate()"
   ]
  }
 ],
 "metadata": {
  "kernelspec": {
   "display_name": "Python 3 (ipykernel)",
   "language": "python",
   "name": "python3"
  },
  "language_info": {
   "codemirror_mode": {
    "name": "ipython",
    "version": 3
   },
   "file_extension": ".py",
   "mimetype": "text/x-python",
   "name": "python",
   "nbconvert_exporter": "python",
   "pygments_lexer": "ipython3",
   "version": "3.10.4"
  }
 },
 "nbformat": 4,
 "nbformat_minor": 5
}
