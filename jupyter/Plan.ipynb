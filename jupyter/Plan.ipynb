{
 "cells": [
  {
   "cell_type": "code",
   "execution_count": 1,
   "id": "507dc53c",
   "metadata": {},
   "outputs": [
    {
     "ename": "ModuleNotFoundError",
     "evalue": "No module named 'bungee'",
     "output_type": "error",
     "traceback": [
      "\u001b[0;31m---------------------------------------------------------------------------\u001b[0m",
      "\u001b[0;31mModuleNotFoundError\u001b[0m                       Traceback (most recent call last)",
      "Input \u001b[0;32mIn [1]\u001b[0m, in \u001b[0;36m<cell line: 7>\u001b[0;34m()\u001b[0m\n\u001b[1;32m      5\u001b[0m \u001b[38;5;28;01mimport\u001b[39;00m \u001b[38;5;21;01msys\u001b[39;00m\n\u001b[1;32m      6\u001b[0m \u001b[38;5;28;01mimport\u001b[39;00m \u001b[38;5;21;01mos\u001b[39;00m\n\u001b[0;32m----> 7\u001b[0m \u001b[38;5;28;01mimport\u001b[39;00m \u001b[38;5;21;01mbungee\u001b[39;00m\n\u001b[1;32m      8\u001b[0m \u001b[38;5;28;01mimport\u001b[39;00m \u001b[38;5;21;01mcenote\u001b[39;00m\n\u001b[1;32m      9\u001b[0m \u001b[38;5;28;01mimport\u001b[39;00m \u001b[38;5;21;01myaml\u001b[39;00m\n",
      "\u001b[0;31mModuleNotFoundError\u001b[0m: No module named 'bungee'"
     ]
    }
   ],
   "source": [
    "%matplotlib notebook\n",
    "import matplotlib.pyplot as plt\n",
    "plt.style.use(\"dark_background\")\n",
    "\n",
    "import sys\n",
    "import os\n",
    "import bungee\n",
    "import cenote\n",
    "import yaml\n",
    "import pint\n",
    "import numpy as np\n",
    "\n",
    "UREG = cenote.UREG\n",
    "UREG.setup_matplotlib()\n",
    "\n",
    "PATH = os.path.join(os.environ[\"SRC_DIR\"], \"examples\", \"big.yaml\")\n",
    "\n",
    "input_plan = cenote.get_plan(PATH)\n",
    "output_plan = bungee.replan(input_plan)\n",
    "result = cenote.get_result(output_plan)"
   ]
  },
  {
   "cell_type": "code",
   "execution_count": null,
   "id": "de7f4449",
   "metadata": {},
   "outputs": [],
   "source": [
    "for point in output_plan.profile():\n",
    "    depth = (point.depth.value() * cenote.DEPTH_UNIT).to(cenote.DEPTH_DISPLAY_UNIT)\n",
    "    time = (point.time.value() * cenote.TIME_UNIT).to(cenote.TIME_DISPLAY_UNIT)\n",
    "    print(\"{depth:~.0f}\\t{time:~.0f}\\t{tank}\".format(depth=depth, time=time, tank=point.tank))"
   ]
  },
  {
   "cell_type": "code",
   "execution_count": null,
   "id": "37805c2b",
   "metadata": {},
   "outputs": [],
   "source": [
    "# Depth\n",
    "plt.figure()\n",
    "plt.plot(result.time, result.depth, \"g\", label=\"Profile\")\n",
    "idxs = np.nonzero(result.deco.ceiling > 0)[0]\n",
    "plt.plot(result.time[idxs], result.deco.ceiling[idxs], \"r\", label=\"Ceiling\")\n",
    "plt.legend(loc=\"best\")\n",
    "for i in range(result.deco.ceilings.shape[0]):\n",
    "    idxs = np.nonzero(result.deco.ceilings[i, :] > 0)[0]\n",
    "    if len(idxs):\n",
    "        plt.plot(result.time[idxs], result.deco.ceilings[i, idxs], \"r\", alpha=0.2)\n",
    "plt.gca().invert_yaxis()\n",
    "plt.grid(alpha=0.2)\n",
    "plt.title(\"Profile\")"
   ]
  },
  {
   "cell_type": "code",
   "execution_count": null,
   "id": "14fb4446",
   "metadata": {},
   "outputs": [],
   "source": [
    "import numpy as np\n",
    "\n",
    "plt.figure()\n",
    "\n",
    "idxs = np.nonzero(result.deco.gradient >= 0)[0]\n",
    "plt.plot(result.time[idxs], result.deco.gradient[idxs] * 100, \"g\")\n",
    "for i in range(result.deco.gradients.shape[0]):\n",
    "    idxs = np.nonzero(result.deco.gradients[i, :] > 0)[0]\n",
    "    if len(idxs):\n",
    "        plt.plot(result.time[idxs], result.deco.gradients[i, idxs] * 100, \"g\", alpha=0.3)\n",
    "plt.grid(alpha=0.2)\n",
    "plt.ylabel(\"Gradient (%)\")\n",
    "plt.title(\"Gradient\")"
   ]
  },
  {
   "cell_type": "code",
   "execution_count": null,
   "id": "229b61f0",
   "metadata": {},
   "outputs": [],
   "source": [
    "# single compartment analysis\n",
    "\n",
    "COMPARTMENT = 5\n",
    "\n",
    "# ambient_pressure = [cenote.pressure_from_depth(d, plan.water()) for d in result.depth]\n",
    "plt.figure()\n",
    "plt.plot(result.ambient_pressure, result.ambient_pressure, \"b\", label=\"Ambient\")\n",
    "plt.plot(result.deco.M0s[COMPARTMENT, :], result.deco.tissue_pressures[COMPARTMENT, :], \"r\", label=\"M value\")\n",
    "plt.plot(result.ambient_pressure, result.deco.tissue_pressures[COMPARTMENT, :], \"g\", label=\"Tissue\")\n",
    "plt.legend(loc=\"best\")\n",
    "plt.axis(\"equal\")\n",
    "plt.grid(alpha=0.2)\n",
    "plt.title(\"Compartment vs Ambient Pressure\")\n",
    "\n",
    "plt.figure()\n",
    "plt.plot(result.time, result.ambient_pressure, \"b\", label=\"Ambient\")\n",
    "plt.plot(result.time, result.deco.M0s[COMPARTMENT, :], \"r\", label=\"M value\")\n",
    "plt.plot(result.time, result.deco.tissue_pressures[COMPARTMENT, :], \"g\", label=\"Tissue\")\n",
    "plt.legend(loc=\"best\")\n",
    "plt.grid(alpha=0.2)\n",
    "plt.gca().invert_yaxis()\n",
    "plt.title(\"Tissue Pressures vs Time\")"
   ]
  },
  {
   "cell_type": "code",
   "execution_count": null,
   "id": "bd7f1e18",
   "metadata": {},
   "outputs": [],
   "source": [
    "# Pressure\n",
    "plt.figure()\n",
    "for tank in result.tank_pressure:\n",
    "    plt.plot(result.time, result.tank_pressure[tank], label=tank)\n",
    "plt.grid(alpha=0.2)\n",
    "plt.title(\"Tank Pressure\")\n",
    "plt.legend(loc=\"best\")"
   ]
  }
 ],
 "metadata": {
  "kernelspec": {
   "display_name": "Python 3 (ipykernel)",
   "language": "python",
   "name": "python3"
  },
  "language_info": {
   "codemirror_mode": {
    "name": "ipython",
    "version": 3
   },
   "file_extension": ".py",
   "mimetype": "text/x-python",
   "name": "python",
   "nbconvert_exporter": "python",
   "pygments_lexer": "ipython3",
   "version": "3.10.4"
  }
 },
 "nbformat": 4,
 "nbformat_minor": 5
}
