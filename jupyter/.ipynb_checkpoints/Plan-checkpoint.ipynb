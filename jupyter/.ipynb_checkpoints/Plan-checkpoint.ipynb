{
 "cells": [
  {
   "cell_type": "code",
   "execution_count": 1,
   "id": "507dc53c",
   "metadata": {},
   "outputs": [],
   "source": [
    "%matplotlib notebook\n",
    "import matplotlib.pypolot as plt\n",
    "import sys\n",
    "import os\n",
    "import bungee\n",
    "import cenote\n",
    "import yaml\n",
    "import pint\n",
    "\n",
    "UREG = cenote.UREG\n",
    "\n",
    "PATH = os.path.join(os.environ[\"SRC_DIR\"], \"examples\", \"115ft_30min.yaml\")\n",
    "\n",
    "plan = cenote.get_plan(PATH)\n",
    "result = bungee.Result(plan)"
   ]
  },
  {
   "cell_type": "code",
   "execution_count": null,
   "id": "37805c2b",
   "metadata": {},
   "outputs": [],
   "source": []
  },
  {
   "cell_type": "code",
   "execution_count": 2,
   "id": "bd7f1e18",
   "metadata": {},
   "outputs": [],
   "source": [
    "\n",
    "# # create the plan object\n",
    "# plan = Plan(water, default_scr, tank_info, deco)\n",
    "\n",
    "# ## profile\n",
    "# # get a list of times in minutes\n",
    "# durations = [\n",
    "#     UREG.parse_expression(p[\"duration\"]).to(config.TIME_UNIT).magnitude for p in data[\"profile\"]\n",
    "# ]\n",
    "# times = [float(d) * config.TIME_UNIT for d in np.cumsum([0.0] + durations)]\n",
    "# # get a list of depths\n",
    "# depths = [0 * config.DEPTH_UNIT] + [UREG.parse_expression(p[\"depth\"]) for p in data[\"profile\"]]\n",
    "# # scr points\n",
    "# scrs = [\n",
    "#     Scr(UREG.parse_expression(p[\"scr\"])) if \"scr\" in p else None for p in data[\"profile\"]\n",
    "# ] + [None]\n",
    "# # tank points\n",
    "# tanks = [p[\"tank\"] if \"tank\" in p else None for p in data[\"profile\"]]\n",
    "# tanks += [tanks[-1]]\n",
    "# if tanks[0] is None:\n",
    "#     raise Exception(\"First entry in profile must contain tank\")\n",
    "\n",
    "# N = len(times)\n",
    "\n",
    "# # other checks\n",
    "# assert len(depths) == N\n",
    "# assert len(scrs) == N\n",
    "# assert len(tanks) == N\n",
    "\n",
    "# # populate the profile points\n",
    "# for i in range(N):\n",
    "#     plan.add_point(time=times[i], depth=depths[i], scr=scrs[i], tank_name=tanks[i])\n",
    "\n",
    "# plan.validate()"
   ]
  }
 ],
 "metadata": {
  "kernelspec": {
   "display_name": "Python 3 (ipykernel)",
   "language": "python",
   "name": "python3"
  },
  "language_info": {
   "codemirror_mode": {
    "name": "ipython",
    "version": 3
   },
   "file_extension": ".py",
   "mimetype": "text/x-python",
   "name": "python",
   "nbconvert_exporter": "python",
   "pygments_lexer": "ipython3",
   "version": "3.10.4"
  }
 },
 "nbformat": 4,
 "nbformat_minor": 5
}
