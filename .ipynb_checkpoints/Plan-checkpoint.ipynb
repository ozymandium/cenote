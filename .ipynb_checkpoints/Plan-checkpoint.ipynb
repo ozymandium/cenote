{
 "cells": [
  {
   "cell_type": "code",
   "execution_count": 1,
   "id": "507dc53c",
   "metadata": {},
   "outputs": [],
   "source": [
    "import sys\n",
    "import os\n",
    "sys.path.append(os.environ[\"BUILD_DIR\"])\n",
    "import bungee_py"
   ]
  },
  {
   "cell_type": "code",
   "execution_count": null,
   "id": "a3a3c69e",
   "metadata": {},
   "outputs": [],
   "source": []
  },
  {
   "cell_type": "code",
   "execution_count": 4,
   "id": "37805c2b",
   "metadata": {},
   "outputs": [
    {
     "ename": "TypeError",
     "evalue": "__init__(): incompatible constructor arguments. The following argument types are supported:\n    1. bungee_py.Water(value: int)\n\nInvoked with: 'FRESH'",
     "output_type": "error",
     "traceback": [
      "\u001b[0;31m---------------------------------------------------------------------------\u001b[0m",
      "\u001b[0;31mTypeError\u001b[0m                                 Traceback (most recent call last)",
      "Input \u001b[0;32mIn [4]\u001b[0m, in \u001b[0;36m<cell line: 14>\u001b[0;34m()\u001b[0m\n\u001b[1;32m     11\u001b[0m     data \u001b[38;5;241m=\u001b[39m yaml\u001b[38;5;241m.\u001b[39mload(f, Loader\u001b[38;5;241m=\u001b[39myaml\u001b[38;5;241m.\u001b[39mFullLoader)\n\u001b[1;32m     13\u001b[0m \u001b[38;5;66;03m# water type\u001b[39;00m\n\u001b[0;32m---> 14\u001b[0m water \u001b[38;5;241m=\u001b[39m \u001b[43mbungee_py\u001b[49m\u001b[38;5;241;43m.\u001b[39;49m\u001b[43mWater\u001b[49m\u001b[43m(\u001b[49m\u001b[43mdata\u001b[49m\u001b[43m[\u001b[49m\u001b[38;5;124;43m\"\u001b[39;49m\u001b[38;5;124;43mwater\u001b[39;49m\u001b[38;5;124;43m\"\u001b[39;49m\u001b[43m]\u001b[49m\u001b[43m)\u001b[49m\n\u001b[1;32m     16\u001b[0m \u001b[38;5;66;03m# SCR\u001b[39;00m\n\u001b[1;32m     17\u001b[0m working_scr_pint \u001b[38;5;241m=\u001b[39m UREG\u001b[38;5;241m.\u001b[39mparse_expression(data[\u001b[38;5;124m\"\u001b[39m\u001b[38;5;124mscr\u001b[39m\u001b[38;5;124m\"\u001b[39m][\u001b[38;5;124m\"\u001b[39m\u001b[38;5;124mwork\u001b[39m\u001b[38;5;124m\"\u001b[39m])\n",
      "\u001b[0;31mTypeError\u001b[0m: __init__(): incompatible constructor arguments. The following argument types are supported:\n    1. bungee_py.Water(value: int)\n\nInvoked with: 'FRESH'"
     ]
    }
   ],
   "source": [
    "import yaml\n",
    "import pint\n",
    "\n",
    "UREG = pint.UnitRegistry()\n",
    "# UREG.setup_matplotlib(True)\n",
    "\n",
    "path = os.path.join(os.environ[\"SRC_DIR\"], \"examples\", \"115ft_30min.yaml\")\n",
    "# path = \"/home/user/src/examples/115ft_30min.yaml\"\n",
    "\n",
    "with open(path, \"r\") as f:\n",
    "    data = yaml.load(f, Loader=yaml.FullLoader)\n",
    "\n",
    "# water type\n",
    "water = bungee_py.Water(data[\"water\"])\n",
    "\n",
    "# SCR\n",
    "working_scr_pint = UREG.parse_expression(data[\"scr\"][\"work\"])\n",
    "deco_scr_pint = UREG.parse_expression(data[\"scr\"][\"deco\"])\n",
    "# scr = bungee_py.Scr(\n",
    "#     work = ,\n",
    "#     deco = \n",
    "# )\n",
    "#  = \n",
    "# default_scr = Scr(default_volume_rate)\n",
    "\n",
    "# # tank info\n",
    "# tank_info = {}\n",
    "# for entry in data[\"tanks\"]:\n",
    "#     name = entry[\"name\"]\n",
    "#     enum = Tank[entry[\"type\"]]\n",
    "#     pressure = UREG.parse_expression(entry[\"pressure\"])\n",
    "#     mix = Mix(po2=entry[\"mix\"][\"po2\"])\n",
    "#     tank_info[name] = TankInfo(enum, pressure, mix)\n",
    "\n",
    "# # decompression\n",
    "# deco = BuhlmannParams(gf_low=data[\"deco\"][\"gf_low\"], gf_high=data[\"deco\"][\"gf_high\"])\n",
    "\n",
    "# # create the plan object\n",
    "# plan = Plan(water, default_scr, tank_info, deco)\n",
    "\n",
    "# ## profile\n",
    "# # get a list of times in minutes\n",
    "# durations = [\n",
    "#     UREG.parse_expression(p[\"duration\"]).to(config.TIME_UNIT).magnitude for p in data[\"profile\"]\n",
    "# ]\n",
    "# times = [float(d) * config.TIME_UNIT for d in np.cumsum([0.0] + durations)]\n",
    "# # get a list of depths\n",
    "# depths = [0 * config.DEPTH_UNIT] + [UREG.parse_expression(p[\"depth\"]) for p in data[\"profile\"]]\n",
    "# # scr points\n",
    "# scrs = [\n",
    "#     Scr(UREG.parse_expression(p[\"scr\"])) if \"scr\" in p else None for p in data[\"profile\"]\n",
    "# ] + [None]\n",
    "# # tank points\n",
    "# tanks = [p[\"tank\"] if \"tank\" in p else None for p in data[\"profile\"]]\n",
    "# tanks += [tanks[-1]]\n",
    "# if tanks[0] is None:\n",
    "#     raise Exception(\"First entry in profile must contain tank\")\n",
    "\n",
    "# N = len(times)\n",
    "\n",
    "# # other checks\n",
    "# assert len(depths) == N\n",
    "# assert len(scrs) == N\n",
    "# assert len(tanks) == N\n",
    "\n",
    "# # populate the profile points\n",
    "# for i in range(N):\n",
    "#     plan.add_point(time=times[i], depth=depths[i], scr=scrs[i], tank_name=tanks[i])\n",
    "\n",
    "# plan.validate()\n",
    "\n",
    "# return plan"
   ]
  },
  {
   "cell_type": "code",
   "execution_count": null,
   "id": "f8d97867",
   "metadata": {},
   "outputs": [],
   "source": []
  }
 ],
 "metadata": {
  "kernelspec": {
   "display_name": "Python 3 (ipykernel)",
   "language": "python",
   "name": "python3"
  },
  "language_info": {
   "codemirror_mode": {
    "name": "ipython",
    "version": 3
   },
   "file_extension": ".py",
   "mimetype": "text/x-python",
   "name": "python",
   "nbconvert_exporter": "python",
   "pygments_lexer": "ipython3",
   "version": "3.10.4"
  }
 },
 "nbformat": 4,
 "nbformat_minor": 5
}
